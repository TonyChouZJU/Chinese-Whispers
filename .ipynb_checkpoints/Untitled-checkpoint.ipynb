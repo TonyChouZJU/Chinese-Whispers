{
 "cells": [
  {
   "cell_type": "code",
   "execution_count": 1,
   "metadata": {
    "collapsed": true
   },
   "outputs": [],
   "source": [
    "import networkx as nx\n",
    "import matplotlib.pylab as plt\n",
    "%matplotlib inline\n",
    "import random\n",
    "import numpy as np\n",
    "\n",
    "import sys\n",
    "import logging\n",
    "logging.basicConfig(stream=sys.stdout, level=logging.INFO)\n",
    "\n",
    "def convert_unordered_to_ordered(edges, out_edges):\n",
    "    assert len(edges) != 0\n",
    "    #reserve\n",
    "    out_edges = [()] * (2*len(edges))\n",
    "    pend = 0 \n",
    "    for edge in edges:\n",
    "        out_edges[pend] = edge\n",
    "        pend += 1\n",
    "        if edge[0] != edge[1]:\n",
    "            out_edges[pend] = (edge[1], edge[0], edge[2])\n",
    "            pend += 1\n",
    "\n",
    "    return out_edges[:pend]\n",
    "\n",
    "\n",
    "\n",
    "\n",
    "#edges should be something like this\n",
    "#[(1,2,5),(2,3,3})]\n",
    "#or\n",
    "#[(1,2,{'weight':5}),(2,3,{'weight':3})]\n",
    "def chinese_whispers_ordered(ordered_edges, labels, num_iterations):\n",
    "    G = nx.Graph()\n",
    "    #G.add_nodes_from(nodes)\n",
    "    G.add_edges_from(ordered_edges)\n",
    "    #clear the list\n",
    "\n",
    "    if len(neighbors) == 0:\n",
    "        return 0\n",
    "\n",
    "    labels = range(len(neighbors))\n",
    "\n",
    "    neighbors = [G[i] for i in G.nodes()]\n",
    "\n",
    "    for iter in range(len(neighbors) * num_iterations):\n",
    "        idx1 = np.random.randint(0, high=len(neighbors))\n",
    "\n",
    "        labels_to_counts = {}\n",
    "\n",
    "        for idx2 in neighbors[idx1]:\n",
    "            labels_to_counts[labels[idx2]] += G[idx1][idx2]['weight']\n",
    "\n",
    "        #find the most common label\n",
    "        best_label = labels[idx1]\n",
    "        bset_score = -1.0\n",
    "        for k,v in  labels_to_counts.iteritems():\n",
    "            if v > best_score:\n",
    "                best_score = v\n",
    "                best_label = k \n",
    "\n",
    "        labels[idx1] = best_label\n",
    "    \n",
    "    #remap the labels into a contiguous range. First we find the mapping\n",
    "    label_remap ={}\n",
    "    for i in range(len(labels)):\n",
    "        next_id = len(label_remap)\n",
    "        if labels[i] not in label_remap:\n",
    "            label_remap[labels[i]] = next_id\n",
    "\n",
    "    for i in range(len(labels)):\n",
    "        labels[i] = label_remap[labels[i]]\n",
    "\n",
    "    return len(label_remap)\n",
    "    \n",
    "\n",
    "\n",
    "#----------------------------------------------------------------------------------------\n",
    "def chinese_whispers(edges, labels, num_iterations):\n",
    "    oedges = convert_unordered_to_ordered(edges, oedges)\n",
    "    oedges.sort(key=lambda tup: tup[0])  # sorts in place by the 1st element\n",
    "    return chinese_whispers_ordered(oedges, labels, num_iterations)\n",
    "\n",
    "\n",
    "def load_edges_from_file(edge_file):\n",
    "    edges = []\n",
    "    with open(edge_file,'rb') as ef:\n",
    "        for line in ef:\n",
    "            n1, n2, w = line.strip('\\n').split()\n",
    "            edges.append( (int(n1), int(n2), float(w)) )\n",
    "    return edges\n",
    "\n"
   ]
  },
  {
   "cell_type": "code",
   "execution_count": 2,
   "metadata": {
    "collapsed": false
   },
   "outputs": [
    {
     "name": "stdout",
     "output_type": "stream",
     "text": [
      "[(1, 2, 1.0), (1, 3, 1.0), (1, 4, 1.0), (1, 5, 1.0), (1, 11, 1.0), (2, 3, 1.0), (2, 4, 1.0), (2, 5, 1.0), (2, 8, 1.0), (3, 4, 1.0), (3, 5, 1.0), (4, 5, 1.0), (6, 7, 1.0), (6, 8, 1.0), (6, 10, 1.0), (6, 11, 1.0), (7, 9, 1.0), (7, 10, 1.0), (7, 11, 1.0), (8, 9, 1.0), (8, 11, 1.0), (9, 10, 1.0), (9, 11, 1.0), (10, 11, 1.0)]\n"
     ]
    }
   ],
   "source": [
    "\n",
    "if __name__=='__main__':\n",
    "\n",
    "    edges = load_edges_from_file('./graph.txt')\n",
    "    print edges\n",
    "    G = nx.Graph()\n",
    "    G.add_weighted_edges_from(edges)\n",
    "    nx.draw(G)\n",
    "    plt.show()"
   ]
  },
  {
   "cell_type": "code",
   "execution_count": null,
   "metadata": {
    "collapsed": true
   },
   "outputs": [],
   "source": []
  }
 ],
 "metadata": {
  "kernelspec": {
   "display_name": "Python 2",
   "language": "python",
   "name": "python2"
  },
  "language_info": {
   "codemirror_mode": {
    "name": "ipython",
    "version": 2
   },
   "file_extension": ".py",
   "mimetype": "text/x-python",
   "name": "python",
   "nbconvert_exporter": "python",
   "pygments_lexer": "ipython2",
   "version": "2.7.13"
  }
 },
 "nbformat": 4,
 "nbformat_minor": 0
}
